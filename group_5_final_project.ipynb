{
 "cells": [
  {
   "attachments": {},
   "cell_type": "markdown",
   "metadata": {},
   "source": [
    "# Data Mining Project\n",
    "Group 5:\n",
    "- **Marcel Buczkowski 59426**\n",
    "- **Emanuele Tartaglione 61294**\n",
    "- **Alberto Fallocco 59378**\n",
    "\n",
    "Time spent: 8 hours each"
   ]
  },
  {
   "attachments": {},
   "cell_type": "markdown",
   "metadata": {},
   "source": [
    "# Data preparation"
   ]
  },
  {
   "attachments": {},
   "cell_type": "markdown",
   "metadata": {},
   "source": [
    "First we imported the libraries and the data needed and processed them to be stored in adequate format."
   ]
  },
  {
   "cell_type": "code",
   "execution_count": 2,
   "metadata": {
    "scrolled": true
   },
   "outputs": [],
   "source": [
    "import warnings\n",
    "warnings.filterwarnings('ignore')\n",
    "import pandas as pd\n",
    "import numpy as np\n",
    "import time\n",
    "import random\n",
    "import matplotlib.cm as cm\n",
    "from collections import Counter\n",
    "from matplotlib import pyplot as plt\n",
    "from mlxtend.preprocessing import TransactionEncoder\n",
    "from mlxtend.frequent_patterns import apriori, association_rules\n",
    "from sklearn.cluster import KMeans, AgglomerativeClustering\n",
    "from sklearn.decomposition import PCA\n",
    "from sklearn.metrics.cluster import silhouette_score, silhouette_samples, calinski_harabasz_score\n",
    "from sklearn.metrics.pairwise import linear_kernel, cosine_similarity\n",
    "from scipy.spatial.distance import pdist, squareform"
   ]
  },
  {
   "cell_type": "code",
   "execution_count": 3,
   "metadata": {},
   "outputs": [
    {
     "data": {
      "text/html": [
       "<div>\n",
       "<style scoped>\n",
       "    .dataframe tbody tr th:only-of-type {\n",
       "        vertical-align: middle;\n",
       "    }\n",
       "\n",
       "    .dataframe tbody tr th {\n",
       "        vertical-align: top;\n",
       "    }\n",
       "\n",
       "    .dataframe thead th {\n",
       "        text-align: right;\n",
       "    }\n",
       "</style>\n",
       "<table border=\"1\" class=\"dataframe\">\n",
       "  <thead>\n",
       "    <tr style=\"text-align: right;\">\n",
       "      <th></th>\n",
       "      <th>0</th>\n",
       "      <th>1</th>\n",
       "      <th>2</th>\n",
       "      <th>3</th>\n",
       "      <th>4</th>\n",
       "      <th>5</th>\n",
       "      <th>6</th>\n",
       "      <th>7</th>\n",
       "      <th>8</th>\n",
       "      <th>9</th>\n",
       "      <th>...</th>\n",
       "      <th>2039</th>\n",
       "      <th>2040</th>\n",
       "      <th>2041</th>\n",
       "      <th>2042</th>\n",
       "      <th>2043</th>\n",
       "      <th>2044</th>\n",
       "      <th>2045</th>\n",
       "      <th>2046</th>\n",
       "      <th>2047</th>\n",
       "      <th>2048</th>\n",
       "    </tr>\n",
       "  </thead>\n",
       "  <tbody>\n",
       "    <tr>\n",
       "      <th>0</th>\n",
       "      <td>PDFDA0001</td>\n",
       "      <td>0</td>\n",
       "      <td>0</td>\n",
       "      <td>0</td>\n",
       "      <td>0</td>\n",
       "      <td>0</td>\n",
       "      <td>0</td>\n",
       "      <td>0</td>\n",
       "      <td>0</td>\n",
       "      <td>0</td>\n",
       "      <td>...</td>\n",
       "      <td>0</td>\n",
       "      <td>0</td>\n",
       "      <td>0</td>\n",
       "      <td>0</td>\n",
       "      <td>0</td>\n",
       "      <td>0</td>\n",
       "      <td>0</td>\n",
       "      <td>0</td>\n",
       "      <td>0</td>\n",
       "      <td>0</td>\n",
       "    </tr>\n",
       "    <tr>\n",
       "      <th>1</th>\n",
       "      <td>PDFDA0002</td>\n",
       "      <td>0</td>\n",
       "      <td>1</td>\n",
       "      <td>0</td>\n",
       "      <td>0</td>\n",
       "      <td>0</td>\n",
       "      <td>0</td>\n",
       "      <td>0</td>\n",
       "      <td>0</td>\n",
       "      <td>0</td>\n",
       "      <td>...</td>\n",
       "      <td>1</td>\n",
       "      <td>0</td>\n",
       "      <td>0</td>\n",
       "      <td>0</td>\n",
       "      <td>0</td>\n",
       "      <td>0</td>\n",
       "      <td>0</td>\n",
       "      <td>0</td>\n",
       "      <td>0</td>\n",
       "      <td>0</td>\n",
       "    </tr>\n",
       "    <tr>\n",
       "      <th>2</th>\n",
       "      <td>PDFDA0003</td>\n",
       "      <td>0</td>\n",
       "      <td>1</td>\n",
       "      <td>0</td>\n",
       "      <td>0</td>\n",
       "      <td>0</td>\n",
       "      <td>0</td>\n",
       "      <td>0</td>\n",
       "      <td>0</td>\n",
       "      <td>0</td>\n",
       "      <td>...</td>\n",
       "      <td>0</td>\n",
       "      <td>0</td>\n",
       "      <td>0</td>\n",
       "      <td>0</td>\n",
       "      <td>0</td>\n",
       "      <td>0</td>\n",
       "      <td>0</td>\n",
       "      <td>0</td>\n",
       "      <td>0</td>\n",
       "      <td>0</td>\n",
       "    </tr>\n",
       "    <tr>\n",
       "      <th>3</th>\n",
       "      <td>PDFDA0004</td>\n",
       "      <td>0</td>\n",
       "      <td>0</td>\n",
       "      <td>0</td>\n",
       "      <td>0</td>\n",
       "      <td>1</td>\n",
       "      <td>0</td>\n",
       "      <td>0</td>\n",
       "      <td>0</td>\n",
       "      <td>0</td>\n",
       "      <td>...</td>\n",
       "      <td>0</td>\n",
       "      <td>0</td>\n",
       "      <td>0</td>\n",
       "      <td>0</td>\n",
       "      <td>0</td>\n",
       "      <td>0</td>\n",
       "      <td>1</td>\n",
       "      <td>0</td>\n",
       "      <td>0</td>\n",
       "      <td>0</td>\n",
       "    </tr>\n",
       "    <tr>\n",
       "      <th>4</th>\n",
       "      <td>PDFDA0005</td>\n",
       "      <td>0</td>\n",
       "      <td>0</td>\n",
       "      <td>0</td>\n",
       "      <td>0</td>\n",
       "      <td>0</td>\n",
       "      <td>0</td>\n",
       "      <td>0</td>\n",
       "      <td>0</td>\n",
       "      <td>0</td>\n",
       "      <td>...</td>\n",
       "      <td>0</td>\n",
       "      <td>0</td>\n",
       "      <td>0</td>\n",
       "      <td>0</td>\n",
       "      <td>0</td>\n",
       "      <td>0</td>\n",
       "      <td>0</td>\n",
       "      <td>0</td>\n",
       "      <td>0</td>\n",
       "      <td>0</td>\n",
       "    </tr>\n",
       "  </tbody>\n",
       "</table>\n",
       "<p>5 rows × 2049 columns</p>\n",
       "</div>"
      ],
      "text/plain": [
       "        0     1     2     3     4     5     6     7     8     9     ...  2039  \\\n",
       "0  PDFDA0001     0     0     0     0     0     0     0     0     0  ...     0   \n",
       "1  PDFDA0002     0     1     0     0     0     0     0     0     0  ...     1   \n",
       "2  PDFDA0003     0     1     0     0     0     0     0     0     0  ...     0   \n",
       "3  PDFDA0004     0     0     0     0     1     0     0     0     0  ...     0   \n",
       "4  PDFDA0005     0     0     0     0     0     0     0     0     0  ...     0   \n",
       "\n",
       "   2040  2041  2042  2043  2044  2045  2046  2047  2048  \n",
       "0     0     0     0     0     0     0     0     0     0  \n",
       "1     0     0     0     0     0     0     0     0     0  \n",
       "2     0     0     0     0     0     0     0     0     0  \n",
       "3     0     0     0     0     0     1     0     0     0  \n",
       "4     0     0     0     0     0     0     0     0     0  \n",
       "\n",
       "[5 rows x 2049 columns]"
      ]
     },
     "execution_count": 3,
     "metadata": {},
     "output_type": "execute_result"
    }
   ],
   "source": [
    "df = pd.read_csv('fps.txt', sep=',', header=None)\n",
    "df.head()"
   ]
  },
  {
   "cell_type": "code",
   "execution_count": 4,
   "metadata": {},
   "outputs": [],
   "source": [
    "with open('acts.txt', 'r') as file:\n",
    "    targets_transactions, molecules, l = [], [], []\n",
    "    for line in file.readlines():\n",
    "        for w in line.split():\n",
    "            if w.endswith(':'):\n",
    "                molecules.append(w.rstrip(':'))\n",
    "                if l:\n",
    "                    targets_transactions.append(l)\n",
    "                    l = []\n",
    "            else:\n",
    "                l.append(w)\n",
    "\n",
    "targets = list({i for lst in targets_transactions for i in lst})         # it extracts unique list of all targets.\n",
    "targets_dict = dict(zip(targets, range(len(targets))))                   # it creates dictionary which assigns unique integer for each target.\n",
    "targets_transactions_ids = list(\n",
    "    map(lambda sublist:\n",
    "        list(map(lambda item: targets_dict.get(item, item), \n",
    "                 sublist)),targets_transactions))                        # it creates a transaction list with integers instead of strings"
   ]
  },
  {
   "attachments": {},
   "cell_type": "markdown",
   "metadata": {},
   "source": [
    "Then in our data frame we checked if there are any missing values."
   ]
  },
  {
   "cell_type": "code",
   "execution_count": 5,
   "metadata": {},
   "outputs": [],
   "source": [
    "na = False\n",
    "for name, col in df.items():\n",
    "    if col.isna().any():\n",
    "        na = True\n",
    "        df = df.fillna({name: 0})\n",
    "if na:print('There were some missing values, they were filles with 0')"
   ]
  },
  {
   "attachments": {},
   "cell_type": "markdown",
   "metadata": {},
   "source": [
    "# Clustering"
   ]
  },
  {
   "attachments": {},
   "cell_type": "markdown",
   "metadata": {},
   "source": [
    "We began our analysis performing clustering. The first step was to choose the best method to do our analysis. We compared HAC and Kmeans."
   ]
  },
  {
   "cell_type": "code",
   "execution_count": 6,
   "metadata": {},
   "outputs": [
    {
     "name": "stdout",
     "output_type": "stream",
     "text": [
      "Method single silhouette score - 0.3523\n",
      "Method average silhouette score - 0.3307\n",
      "Method complete silhouette score - 0.2506\n",
      "Method ward silhouette score - 0.0408\n"
     ]
    }
   ],
   "source": [
    "# Apply PCA to reduce dimensionality\n",
    "pca = PCA(n_components=30, random_state = 4)\n",
    "df_pca = pca.fit_transform(df.iloc[:,1:])\n",
    "\n",
    "methods = ['single', 'average', 'complete', 'ward']\n",
    "for method in methods:\n",
    "    hac = AgglomerativeClustering(linkage=method, n_clusters=4).fit(df_pca)\n",
    "    sil_h = silhouette_score(df_pca, hac.labels_)   \n",
    "    print(f\"Method {method} silhouette score - {round(sil_h,4)}\")"
   ]
  },
  {
   "attachments": {},
   "cell_type": "markdown",
   "metadata": {},
   "source": [
    "We used single linkage on the HAC algorithm since it has the best silhouette score."
   ]
  },
  {
   "cell_type": "code",
   "execution_count": 7,
   "metadata": {
    "scrolled": true
   },
   "outputs": [
    {
     "data": {
      "image/png": "[encoded data removed]",
      "text/plain": [
       "<Figure size 1700x400 with 3 Axes>"
      ]
     },
     "metadata": {},
     "output_type": "display_data"
    }
   ],
   "source": [
    "def avgDist(X, labels):\n",
    "    D=pdist(X, metric='euclidean')\n",
    "    dmatrix=squareform(D, checks=True)\n",
    "    N=len(labels)\n",
    "    L=list(set(labels))\n",
    "    L.sort()\n",
    "    result=0\n",
    "    for i in L:\n",
    "        Nc=sum(labels==i)\n",
    "        S=0\n",
    "        if Nc>1: S=np.sum(dmatrix[labels==i,:][:,labels==i])/(Nc*(Nc-1))\n",
    "        result+=S*Nc/N\n",
    "    return result\n",
    "\n",
    "results_1 = {'sil_k': [], 'sil_h': [], 'calhar_k': [], 'calhar_h': [], 'dist_k': [], 'dist_h': []}\n",
    "for K in range(2,8):\n",
    "    kms = KMeans(n_clusters=K, random_state=0).fit(df_pca)\n",
    "    hac = AgglomerativeClustering(linkage=\"single\", n_clusters=K).fit(df_pca)\n",
    "    sil_k = silhouette_score(df_pca, kms.labels_);results_1['sil_k'].append(sil_k)\n",
    "    sil_h = silhouette_score(df_pca, hac.labels_);results_1['sil_h'].append(sil_h)\n",
    "    calhar_k = calinski_harabasz_score(df_pca, kms.labels_);results_1['calhar_k'].append(calhar_k)\n",
    "    calhar_h = calinski_harabasz_score(df_pca, hac.labels_);results_1['calhar_h'].append(calhar_h)\n",
    "    dist_k = avgDist(df_pca, kms.labels_);results_1['dist_k'].append(dist_k)\n",
    "    dist_h = avgDist(df_pca, hac.labels_);results_1['dist_h'].append(dist_h)\n",
    "\n",
    "clusts = [2,3,4,5,6,7]\n",
    "plt.figure(figsize=(17,4))\n",
    "plt.subplot(1, 3, 1);plt.plot(clusts, results_1['dist_k'], '--', color = 'orange',  label ='K-means');plt.plot(clusts, results_1['dist_h'], '--', color = 'blue',  label ='HAC');plt.xticks(clusts);plt.xlabel('Clusters');plt.ylabel('Average distance');plt.title('Average distance depending on number of clusters');plt.legend()\n",
    "plt.subplot(1, 3, 2);plt.plot(clusts, results_1['sil_k'], '--', color = 'orange',  label ='K-means');plt.plot(clusts, results_1['sil_h'], '--', color = 'blue',  label ='HAC');plt.xticks(clusts);plt.xlabel('Clusters');plt.ylabel('Silhouette score');plt.title('Silhouette score depending on number of clusters');plt.legend()\n",
    "plt.subplot(1, 3, 3);plt.plot(clusts, results_1['calhar_k'], '--', color = 'orange',  label ='K-means');plt.plot(clusts, results_1['calhar_h'], '--', color = 'blue',  label ='HAC');plt.xticks(clusts);plt.xlabel('Clusters');plt.ylabel('Calinski Harabasz score');plt.title('Calinski Harabasz score depending on number of clusters');plt.legend()\n",
    "plt.show()"
   ]
  },
  {
   "cell_type": "code",
   "execution_count": 8,
   "metadata": {},
   "outputs": [
    {
     "name": "stdout",
     "output_type": "stream",
     "text": [
      "Cluster distribution in Kmeans with 4 clusters\n",
      "Cluster 1: 465\n",
      "Cluster 2: 339\n",
      "Cluster 3: 227\n",
      "Cluster 4: 70\n"
     ]
    }
   ],
   "source": [
    "kms = KMeans(n_clusters=4, random_state=0).fit(df_pca)\n",
    "print('Cluster distribution in Kmeans with 4 clusters')\n",
    "for i, label in enumerate(set(kms.labels_)):\n",
    "    print(f'Cluster {i+1}: {np.count_nonzero(kms.labels_==label)}')"
   ]
  },
  {
   "cell_type": "code",
   "execution_count": 9,
   "metadata": {},
   "outputs": [
    {
     "name": "stdout",
     "output_type": "stream",
     "text": [
      "Cluster distribution in HAC with 4 clusters\n",
      "Cluster 1: 1093\n",
      "Cluster 2: 3\n",
      "Cluster 3: 4\n",
      "Cluster 4: 1\n"
     ]
    }
   ],
   "source": [
    "hac = AgglomerativeClustering(linkage=\"single\", n_clusters=4).fit(df_pca)\n",
    "print('Cluster distribution in HAC with 4 clusters')\n",
    "for i, label in enumerate(set(hac.labels_)):\n",
    "    print(f'Cluster {i+1}: {np.count_nonzero(hac.labels_==label)}')"
   ]
  },
  {
   "attachments": {},
   "cell_type": "markdown",
   "metadata": {},
   "source": [
    "Looking at the plots and the distribution of the data after applying Kmeans and HAC, we decided to use the Kmeans algorithm with 4 clusters. We did not choose the HAC algorithm since everything falls in one cluster even though the silhouette scores are better than the Kmeans."
   ]
  },
  {
   "cell_type": "code",
   "execution_count": 10,
   "metadata": {
    "scrolled": true
   },
   "outputs": [
    {
     "data": {
      "image/png": "[encoded data removed]",
      "text/plain": [
       "<Figure size 800x600 with 1 Axes>"
      ]
     },
     "metadata": {},
     "output_type": "display_data"
    }
   ],
   "source": [
    "def drawSillouette(X, labels, header=\"\" ):\n",
    "    y_lower =10\n",
    "    clusters=list(set(labels))\n",
    "    n_clusters=len(clusters)\n",
    "\n",
    "    fig = plt.figure(figsize=(8,6))\n",
    "    ax1 = plt.gca()\n",
    "    ax1.set_xlim([-0.5, 1])\n",
    "    ax1.set_ylim([0, len(X) + (n_clusters) * 3+ y_lower])\n",
    "    sil_avg = silhouette_score(X, labels)\n",
    "    silhouette_values = silhouette_samples(X, labels)\n",
    "    for i,c in enumerate(clusters):\n",
    "        cs_values = silhouette_values[labels == c]\n",
    "        cs_values.sort()\n",
    "        size_ci = cs_values.shape[0]\n",
    "        y_upper = y_lower + size_ci\n",
    "        color = cm.nipy_spectral(i / n_clusters) #np.array([\"r\", \"g\", \"b\", \"k\", \"y\"])[i] #\n",
    "        ax1.fill_betweenx(np.arange(y_lower, y_upper), 0, cs_values, facecolor=color, edgecolor=\"k\", alpha=0.7)\n",
    "        ax1.text(-0.05, y_lower + 0.5 * size_ci, str(c))\n",
    "        y_lower = y_upper + 3  # 10 for the 0 samples\n",
    "    ax1.set_title(\"Silhouette plot \"+ header)\n",
    "    ax1.set_xlabel(\"Silhouette coefficient\")\n",
    "    ax1.set_ylabel(\"Clusters\")\n",
    "    ax1.axvline(x=sil_avg, c=\"r\", linestyle=\"--\")\n",
    "    ax1.set_yticks([]) \n",
    "    plt.show()\n",
    "\n",
    "kms = KMeans(n_clusters=4, random_state=0).fit(df_pca)\n",
    "drawSillouette(df_pca, kms.labels_, \"kmeans (K=4)\")"
   ]
  },
  {
   "attachments": {},
   "cell_type": "markdown",
   "metadata": {},
   "source": [
    "From the plot above we can see that the clustering is not good, even though the scores for cluster 0 and cluster 3 are not bad. Thus, for this reason we decided to compare how different the targets from these two clusters are. To do so, we printted many information about the targets of drugs falling into soecific clusters."
   ]
  },
  {
   "cell_type": "code",
   "execution_count": 11,
   "metadata": {
    "scrolled": true
   },
   "outputs": [
    {
     "name": "stdout",
     "output_type": "stream",
     "text": [
      "Cluster 0:\n",
      "Number of targets in general: 4152\n",
      "Number of unique targets: 858\n",
      "Distribution of drugs binding each target:\n",
      " Target  Count\n",
      "    REP    251\n",
      "SLCO1B3    160\n",
      "SLCO1B1    159\n",
      "   LMNA    124\n",
      " CYP3A4     58\n"
     ]
    }
   ],
   "source": [
    "labels, names = zip(*sorted(zip(kms.labels_, molecules)))\n",
    "\n",
    "print(f'Cluster 0:')\n",
    "first_cluster = [name for i, name in enumerate(names) if labels[i] == 0]\n",
    "\n",
    "first_cluster_targets = list(np.concatenate([targets_transactions[molecules.index(drug)] for drug in first_cluster]).flat)\n",
    "print(f'Number of targets in general: {len(first_cluster_targets)}')\n",
    "print(f'Number of unique targets: {len(set(first_cluster_targets))}')\n",
    "element_counts = Counter(first_cluster_targets)\n",
    "sorted_values = sorted(element_counts.items(), key=lambda x: x[1], reverse=True)[:5]\n",
    "sort1 = pd.DataFrame(sorted_values, columns=[\"Target\", \"Count\"])\n",
    "print(\"Distribution of drugs binding each target:\")\n",
    "print(sort1.to_string(index=False))"
   ]
  },
  {
   "cell_type": "code",
   "execution_count": 12,
   "metadata": {},
   "outputs": [
    {
     "name": "stdout",
     "output_type": "stream",
     "text": [
      "Cluster 3\n",
      "Number of targets in general: 492\n",
      "Number of unique targets: 125\n",
      "Distribution of drugs binding each target:\n",
      " Target  Count\n",
      "    REP     40\n",
      "SLCO1B1     36\n",
      "SLCO1B3     36\n",
      "  NR3C1     27\n",
      "    PGR     23\n"
     ]
    }
   ],
   "source": [
    "print(f'Cluster 3')\n",
    "second_cluster = [name for i, name in enumerate(names) if labels[i] == 3]\n",
    "\n",
    "second_cluster_targets = list(np.concatenate([targets_transactions[molecules.index(drug)] for drug in second_cluster]).flat)\n",
    "print(f'Number of targets in general: {len(second_cluster_targets)}')\n",
    "print(f'Number of unique targets: {len(set(second_cluster_targets))}')\n",
    "element_counts_2 = Counter(second_cluster_targets)\n",
    "sorted_values_2 = sorted(element_counts_2.items(), key=lambda x: x[1], reverse=True)[:5]\n",
    "sort2 = pd.DataFrame(sorted_values_2, columns=[\"Target\", \"Count\"])\n",
    "print(\"Distribution of drugs binding each target:\")\n",
    "print(sort2.to_string(index=False))"
   ]
  },
  {
   "cell_type": "code",
   "execution_count": 13,
   "metadata": {
    "scrolled": true
   },
   "outputs": [
    {
     "name": "stdout",
     "output_type": "stream",
     "text": [
      "Number of common unique targets for two clusters: 98\n",
      "Number of targets in cluster 0 that do not appear in cluster 3: 760\n",
      "Number of targets in cluster 3 that do not appear in cluster 0: 27\n"
     ]
    }
   ],
   "source": [
    "common_for_both = len(set(first_cluster_targets).intersection(set(second_cluster_targets)))\n",
    "print(f'Number of common unique targets for two clusters: {common_for_both}')\n",
    "print(f'Number of targets in cluster 0 that do not appear in cluster 3: {len(set(first_cluster_targets)) - common_for_both}')\n",
    "print(f'Number of targets in cluster 3 that do not appear in cluster 0: {len(set(second_cluster_targets)) - common_for_both}')"
   ]
  },
  {
   "cell_type": "code",
   "execution_count": 14,
   "metadata": {},
   "outputs": [
    {
     "name": "stdout",
     "output_type": "stream",
     "text": [
      "Most repeated targets specific for cluster 0 and not cluster 3:\n",
      " Target  Count\n",
      "ALDH1A1     32\n",
      "   TDP1     27\n",
      "   ACHE     25\n",
      "  ADRB2     25\n",
      "  PTGS1     24\n"
     ]
    }
   ],
   "source": [
    "only_first = list(set(first_cluster_targets).difference(set(second_cluster_targets)))\n",
    "only_first_counts = {target: count for target, count in element_counts.items() if target in only_first}\n",
    "\n",
    "# Find the most repeated targets\n",
    "sorted_values_3 = sorted(only_first_counts.items(), key=lambda x: x[1], reverse=True)\n",
    "most_repeated = sorted_values_3[:5]  # Get the top 5 most repeated targets\n",
    "\n",
    "rep1 = pd.DataFrame(most_repeated, columns=[\"Target\", \"Count\"])\n",
    "\n",
    "print(\"Most repeated targets specific for cluster 0 and not cluster 3:\")\n",
    "print(rep1.to_string(index=False))"
   ]
  },
  {
   "cell_type": "code",
   "execution_count": 15,
   "metadata": {
    "scrolled": true
   },
   "outputs": [
    {
     "name": "stdout",
     "output_type": "stream",
     "text": [
      "Most repeated targets specific for cluster 3 and not cluster 0:\n",
      "  Target  Count\n",
      "   NR3C1     27\n",
      "    SHBG     12\n",
      "   NR3C2      9\n",
      "  GPBAR1      4\n",
      "SERPINA6      4\n"
     ]
    }
   ],
   "source": [
    "only_second = list(set(second_cluster_targets).difference(set(first_cluster_targets)))\n",
    "only_second_counts = {target: count for target, count in element_counts_2.items() if target in only_second}\n",
    "\n",
    "# Find the most repeated targets\n",
    "sorted_values_4 = sorted(only_second_counts.items(), key=lambda x: x[1], reverse=True)\n",
    "most_repeated_2 = sorted_values_4[:5]  # Get the top 5 most repeated targets\n",
    "\n",
    "rep2 = pd.DataFrame(most_repeated_2, columns=[\"Target\", \"Count\"])\n",
    "\n",
    "print(\"Most repeated targets specific for cluster 3 and not cluster 0:\")\n",
    "print(rep2.to_string(index=False))"
   ]
  },
  {
   "attachments": {},
   "cell_type": "markdown",
   "metadata": {},
   "source": [
    "# Association Rules"
   ]
  },
  {
   "attachments": {},
   "cell_type": "markdown",
   "metadata": {},
   "source": [
    "In the second part, using the transaction file (targets of each molecule) we decided to mine association rules. "
   ]
  },
  {
   "cell_type": "code",
   "execution_count": 16,
   "metadata": {},
   "outputs": [],
   "source": [
    "tr_enc = TransactionEncoder()\n",
    "trans_array = tr_enc.fit(targets_transactions_ids).transform(targets_transactions_ids)\n",
    "binary_database = pd.DataFrame(trans_array, columns=tr_enc.columns_)"
   ]
  },
  {
   "cell_type": "code",
   "execution_count": 17,
   "metadata": {},
   "outputs": [
    {
     "data": {
      "text/html": [
       "<div>\n",
       "<style scoped>\n",
       "    .dataframe tbody tr th:only-of-type {\n",
       "        vertical-align: middle;\n",
       "    }\n",
       "\n",
       "    .dataframe tbody tr th {\n",
       "        vertical-align: top;\n",
       "    }\n",
       "\n",
       "    .dataframe thead th {\n",
       "        text-align: right;\n",
       "    }\n",
       "</style>\n",
       "<table border=\"1\" class=\"dataframe\">\n",
       "  <thead>\n",
       "    <tr style=\"text-align: right;\">\n",
       "      <th></th>\n",
       "      <th>threshold</th>\n",
       "      <th>num_itemsets</th>\n",
       "      <th>apriori time</th>\n",
       "    </tr>\n",
       "  </thead>\n",
       "  <tbody>\n",
       "    <tr>\n",
       "      <th>0</th>\n",
       "      <td>0.10</td>\n",
       "      <td>15</td>\n",
       "      <td>0.008130</td>\n",
       "    </tr>\n",
       "    <tr>\n",
       "      <th>1</th>\n",
       "      <td>0.09</td>\n",
       "      <td>18</td>\n",
       "      <td>0.008500</td>\n",
       "    </tr>\n",
       "    <tr>\n",
       "      <th>2</th>\n",
       "      <td>0.08</td>\n",
       "      <td>24</td>\n",
       "      <td>0.008326</td>\n",
       "    </tr>\n",
       "    <tr>\n",
       "      <th>3</th>\n",
       "      <td>0.07</td>\n",
       "      <td>34</td>\n",
       "      <td>0.008014</td>\n",
       "    </tr>\n",
       "    <tr>\n",
       "      <th>4</th>\n",
       "      <td>0.06</td>\n",
       "      <td>48</td>\n",
       "      <td>0.008060</td>\n",
       "    </tr>\n",
       "    <tr>\n",
       "      <th>5</th>\n",
       "      <td>0.05</td>\n",
       "      <td>95</td>\n",
       "      <td>0.016428</td>\n",
       "    </tr>\n",
       "  </tbody>\n",
       "</table>\n",
       "</div>"
      ],
      "text/plain": [
       "   threshold  num_itemsets  apriori time\n",
       "0       0.10            15      0.008130\n",
       "1       0.09            18      0.008500\n",
       "2       0.08            24      0.008326\n",
       "3       0.07            34      0.008014\n",
       "4       0.06            48      0.008060\n",
       "5       0.05            95      0.016428"
      ]
     },
     "execution_count": 17,
     "metadata": {},
     "output_type": "execute_result"
    }
   ],
   "source": [
    "D={\"threshold\": [0.1, 0.09, 0.08, 0.07, 0.06, 0.05], \n",
    "   \"num_itemsets\":[],\n",
    "   \"apriori time\":[]}\n",
    "\n",
    "for min_supp in D[\"threshold\"]:\n",
    "    t0 = time.time()\n",
    "    FI_apriori= apriori(binary_database, min_support = min_supp, use_colnames=True)\n",
    "    t1 = time.time()\n",
    "    D[\"num_itemsets\"].append(FI_apriori.shape[0])\n",
    "    D[\"apriori time\"].append(t1-t0)\n",
    "\n",
    "df_performance=pd.DataFrame(D)\n",
    "df_performance"
   ]
  },
  {
   "attachments": {},
   "cell_type": "markdown",
   "metadata": {},
   "source": [
    "Since apriori algorithm is fast, we did not decide to test any other approaches."
   ]
  },
  {
   "cell_type": "code",
   "execution_count": 18,
   "metadata": {},
   "outputs": [
    {
     "name": "stdout",
     "output_type": "stream",
     "text": [
      "     support           itemsets  length\n",
      "44  0.100000   (1185, 261, 982)       3\n",
      "45  0.076364   (417, 1185, 982)       3\n",
      "46  0.064545   (1185, 909, 982)       3\n",
      "47  0.151818  (1185, 1229, 982)       3\n",
      "Number of sets: 48. Maximal size of sets: 3\n"
     ]
    }
   ],
   "source": [
    "FI_apriori=apriori(binary_database, min_support = 0.06, use_colnames=True) \n",
    "FI_apriori['length'] = FI_apriori['itemsets'].apply(lambda x: len(x))\n",
    "print(FI_apriori.tail(4))\n",
    "print(f\"Number of sets: {FI_apriori.shape[0]}. Maximal size of sets: {max(FI_apriori['length'])}\")"
   ]
  },
  {
   "attachments": {},
   "cell_type": "markdown",
   "metadata": {},
   "source": [
    "Choosing a threshold of 0.06 for the support, we get 48 rules.\n",
    "Then we put also thresholds for confidence(> 0.6), lift (> 2) and conviction (> 2), getting a total of 19 rules."
   ]
  },
  {
   "cell_type": "code",
   "execution_count": 19,
   "metadata": {},
   "outputs": [
    {
     "name": "stdout",
     "output_type": "stream",
     "text": [
      "Number of Rules: 19\n"
     ]
    },
    {
     "data": {
      "text/html": [
       "<div>\n",
       "<style scoped>\n",
       "    .dataframe tbody tr th:only-of-type {\n",
       "        vertical-align: middle;\n",
       "    }\n",
       "\n",
       "    .dataframe tbody tr th {\n",
       "        vertical-align: top;\n",
       "    }\n",
       "\n",
       "    .dataframe thead th {\n",
       "        text-align: right;\n",
       "    }\n",
       "</style>\n",
       "<table border=\"1\" class=\"dataframe\">\n",
       "  <thead>\n",
       "    <tr style=\"text-align: right;\">\n",
       "      <th></th>\n",
       "      <th>antecedents</th>\n",
       "      <th>consequents</th>\n",
       "      <th>antecedent support</th>\n",
       "      <th>consequent support</th>\n",
       "      <th>support</th>\n",
       "      <th>confidence</th>\n",
       "      <th>lift</th>\n",
       "      <th>leverage</th>\n",
       "      <th>conviction</th>\n",
       "    </tr>\n",
       "  </thead>\n",
       "  <tbody>\n",
       "    <tr>\n",
       "      <th>16</th>\n",
       "      <td>[CYP3A4, SLCO1B3]</td>\n",
       "      <td>[SLCO1B1]</td>\n",
       "      <td>0.064545</td>\n",
       "      <td>0.306364</td>\n",
       "      <td>0.064545</td>\n",
       "      <td>1.000000</td>\n",
       "      <td>3.264095</td>\n",
       "      <td>0.044771</td>\n",
       "      <td>inf</td>\n",
       "    </tr>\n",
       "    <tr>\n",
       "      <th>18</th>\n",
       "      <td>[SLCO1B3, REP]</td>\n",
       "      <td>[SLCO1B1]</td>\n",
       "      <td>0.153636</td>\n",
       "      <td>0.306364</td>\n",
       "      <td>0.151818</td>\n",
       "      <td>0.988166</td>\n",
       "      <td>3.225467</td>\n",
       "      <td>0.104750</td>\n",
       "      <td>58.612273</td>\n",
       "    </tr>\n",
       "    <tr>\n",
       "      <th>9</th>\n",
       "      <td>[SLCO1B3]</td>\n",
       "      <td>[SLCO1B1]</td>\n",
       "      <td>0.305455</td>\n",
       "      <td>0.306364</td>\n",
       "      <td>0.298182</td>\n",
       "      <td>0.976190</td>\n",
       "      <td>3.186378</td>\n",
       "      <td>0.204602</td>\n",
       "      <td>29.132727</td>\n",
       "    </tr>\n",
       "    <tr>\n",
       "      <th>10</th>\n",
       "      <td>[LMNA, SLCO1B1]</td>\n",
       "      <td>[SLCO1B3]</td>\n",
       "      <td>0.102727</td>\n",
       "      <td>0.305455</td>\n",
       "      <td>0.100000</td>\n",
       "      <td>0.973451</td>\n",
       "      <td>3.186894</td>\n",
       "      <td>0.068621</td>\n",
       "      <td>26.161212</td>\n",
       "    </tr>\n",
       "    <tr>\n",
       "      <th>11</th>\n",
       "      <td>[LMNA, SLCO1B3]</td>\n",
       "      <td>[SLCO1B1]</td>\n",
       "      <td>0.102727</td>\n",
       "      <td>0.306364</td>\n",
       "      <td>0.100000</td>\n",
       "      <td>0.973451</td>\n",
       "      <td>3.177438</td>\n",
       "      <td>0.068528</td>\n",
       "      <td>26.126970</td>\n",
       "    </tr>\n",
       "    <tr>\n",
       "      <th>8</th>\n",
       "      <td>[SLCO1B1]</td>\n",
       "      <td>[SLCO1B3]</td>\n",
       "      <td>0.306364</td>\n",
       "      <td>0.305455</td>\n",
       "      <td>0.298182</td>\n",
       "      <td>0.973294</td>\n",
       "      <td>3.186378</td>\n",
       "      <td>0.204602</td>\n",
       "      <td>26.006869</td>\n",
       "    </tr>\n",
       "    <tr>\n",
       "      <th>15</th>\n",
       "      <td>[CYP3A4, SLCO1B1]</td>\n",
       "      <td>[SLCO1B3]</td>\n",
       "      <td>0.066364</td>\n",
       "      <td>0.305455</td>\n",
       "      <td>0.064545</td>\n",
       "      <td>0.972603</td>\n",
       "      <td>3.184116</td>\n",
       "      <td>0.044274</td>\n",
       "      <td>25.350909</td>\n",
       "    </tr>\n",
       "    <tr>\n",
       "      <th>17</th>\n",
       "      <td>[SLCO1B1, REP]</td>\n",
       "      <td>[SLCO1B3]</td>\n",
       "      <td>0.156364</td>\n",
       "      <td>0.305455</td>\n",
       "      <td>0.151818</td>\n",
       "      <td>0.970930</td>\n",
       "      <td>3.178641</td>\n",
       "      <td>0.104056</td>\n",
       "      <td>23.892364</td>\n",
       "    </tr>\n",
       "    <tr>\n",
       "      <th>12</th>\n",
       "      <td>[SLCO2B1, SLCO1B1]</td>\n",
       "      <td>[SLCO1B3]</td>\n",
       "      <td>0.080909</td>\n",
       "      <td>0.305455</td>\n",
       "      <td>0.076364</td>\n",
       "      <td>0.943820</td>\n",
       "      <td>3.089888</td>\n",
       "      <td>0.051650</td>\n",
       "      <td>12.362909</td>\n",
       "    </tr>\n",
       "    <tr>\n",
       "      <th>13</th>\n",
       "      <td>[SLCO2B1, SLCO1B3]</td>\n",
       "      <td>[SLCO1B1]</td>\n",
       "      <td>0.080909</td>\n",
       "      <td>0.306364</td>\n",
       "      <td>0.076364</td>\n",
       "      <td>0.943820</td>\n",
       "      <td>3.080719</td>\n",
       "      <td>0.051576</td>\n",
       "      <td>12.346727</td>\n",
       "    </tr>\n",
       "    <tr>\n",
       "      <th>3</th>\n",
       "      <td>[SLCO2B1]</td>\n",
       "      <td>[SLCO1B3]</td>\n",
       "      <td>0.087273</td>\n",
       "      <td>0.305455</td>\n",
       "      <td>0.080909</td>\n",
       "      <td>0.927083</td>\n",
       "      <td>3.035094</td>\n",
       "      <td>0.054251</td>\n",
       "      <td>9.525195</td>\n",
       "    </tr>\n",
       "    <tr>\n",
       "      <th>4</th>\n",
       "      <td>[SLCO2B1]</td>\n",
       "      <td>[SLCO1B1]</td>\n",
       "      <td>0.087273</td>\n",
       "      <td>0.306364</td>\n",
       "      <td>0.080909</td>\n",
       "      <td>0.927083</td>\n",
       "      <td>3.026088</td>\n",
       "      <td>0.054172</td>\n",
       "      <td>9.512727</td>\n",
       "    </tr>\n",
       "    <tr>\n",
       "      <th>14</th>\n",
       "      <td>[SLCO2B1]</td>\n",
       "      <td>[SLCO1B3, SLCO1B1]</td>\n",
       "      <td>0.087273</td>\n",
       "      <td>0.298182</td>\n",
       "      <td>0.076364</td>\n",
       "      <td>0.875000</td>\n",
       "      <td>2.934451</td>\n",
       "      <td>0.050340</td>\n",
       "      <td>5.614545</td>\n",
       "    </tr>\n",
       "    <tr>\n",
       "      <th>7</th>\n",
       "      <td>[HTR2C]</td>\n",
       "      <td>[HTR2A]</td>\n",
       "      <td>0.076364</td>\n",
       "      <td>0.080909</td>\n",
       "      <td>0.066364</td>\n",
       "      <td>0.869048</td>\n",
       "      <td>10.741038</td>\n",
       "      <td>0.060185</td>\n",
       "      <td>7.018512</td>\n",
       "    </tr>\n",
       "    <tr>\n",
       "      <th>6</th>\n",
       "      <td>[HTR2A]</td>\n",
       "      <td>[HTR2C]</td>\n",
       "      <td>0.080909</td>\n",
       "      <td>0.076364</td>\n",
       "      <td>0.066364</td>\n",
       "      <td>0.820225</td>\n",
       "      <td>10.741038</td>\n",
       "      <td>0.060185</td>\n",
       "      <td>5.137727</td>\n",
       "    </tr>\n",
       "    <tr>\n",
       "      <th>1</th>\n",
       "      <td>[HTR2C]</td>\n",
       "      <td>[HTR2B]</td>\n",
       "      <td>0.076364</td>\n",
       "      <td>0.076364</td>\n",
       "      <td>0.060000</td>\n",
       "      <td>0.785714</td>\n",
       "      <td>10.289116</td>\n",
       "      <td>0.054169</td>\n",
       "      <td>4.310303</td>\n",
       "    </tr>\n",
       "    <tr>\n",
       "      <th>0</th>\n",
       "      <td>[HTR2B]</td>\n",
       "      <td>[HTR2C]</td>\n",
       "      <td>0.076364</td>\n",
       "      <td>0.076364</td>\n",
       "      <td>0.060000</td>\n",
       "      <td>0.785714</td>\n",
       "      <td>10.289116</td>\n",
       "      <td>0.054169</td>\n",
       "      <td>4.310303</td>\n",
       "    </tr>\n",
       "    <tr>\n",
       "      <th>2</th>\n",
       "      <td>[CYP1A2]</td>\n",
       "      <td>[CYP2D6]</td>\n",
       "      <td>0.096364</td>\n",
       "      <td>0.127273</td>\n",
       "      <td>0.060909</td>\n",
       "      <td>0.632075</td>\n",
       "      <td>4.966307</td>\n",
       "      <td>0.048645</td>\n",
       "      <td>2.372028</td>\n",
       "    </tr>\n",
       "    <tr>\n",
       "      <th>5</th>\n",
       "      <td>[CYP2C19]</td>\n",
       "      <td>[CYP3A4]</td>\n",
       "      <td>0.096364</td>\n",
       "      <td>0.132727</td>\n",
       "      <td>0.060000</td>\n",
       "      <td>0.622642</td>\n",
       "      <td>4.691135</td>\n",
       "      <td>0.047210</td>\n",
       "      <td>2.298273</td>\n",
       "    </tr>\n",
       "  </tbody>\n",
       "</table>\n",
       "</div>"
      ],
      "text/plain": [
       "           antecedents         consequents  antecedent support  \\\n",
       "16   [CYP3A4, SLCO1B3]           [SLCO1B1]            0.064545   \n",
       "18      [SLCO1B3, REP]           [SLCO1B1]            0.153636   \n",
       "9            [SLCO1B3]           [SLCO1B1]            0.305455   \n",
       "10     [LMNA, SLCO1B1]           [SLCO1B3]            0.102727   \n",
       "11     [LMNA, SLCO1B3]           [SLCO1B1]            0.102727   \n",
       "8            [SLCO1B1]           [SLCO1B3]            0.306364   \n",
       "15   [CYP3A4, SLCO1B1]           [SLCO1B3]            0.066364   \n",
       "17      [SLCO1B1, REP]           [SLCO1B3]            0.156364   \n",
       "12  [SLCO2B1, SLCO1B1]           [SLCO1B3]            0.080909   \n",
       "13  [SLCO2B1, SLCO1B3]           [SLCO1B1]            0.080909   \n",
       "3            [SLCO2B1]           [SLCO1B3]            0.087273   \n",
       "4            [SLCO2B1]           [SLCO1B1]            0.087273   \n",
       "14           [SLCO2B1]  [SLCO1B3, SLCO1B1]            0.087273   \n",
       "7              [HTR2C]             [HTR2A]            0.076364   \n",
       "6              [HTR2A]             [HTR2C]            0.080909   \n",
       "1              [HTR2C]             [HTR2B]            0.076364   \n",
       "0              [HTR2B]             [HTR2C]            0.076364   \n",
       "2             [CYP1A2]            [CYP2D6]            0.096364   \n",
       "5            [CYP2C19]            [CYP3A4]            0.096364   \n",
       "\n",
       "    consequent support   support  confidence       lift  leverage  conviction  \n",
       "16            0.306364  0.064545    1.000000   3.264095  0.044771         inf  \n",
       "18            0.306364  0.151818    0.988166   3.225467  0.104750   58.612273  \n",
       "9             0.306364  0.298182    0.976190   3.186378  0.204602   29.132727  \n",
       "10            0.305455  0.100000    0.973451   3.186894  0.068621   26.161212  \n",
       "11            0.306364  0.100000    0.973451   3.177438  0.068528   26.126970  \n",
       "8             0.305455  0.298182    0.973294   3.186378  0.204602   26.006869  \n",
       "15            0.305455  0.064545    0.972603   3.184116  0.044274   25.350909  \n",
       "17            0.305455  0.151818    0.970930   3.178641  0.104056   23.892364  \n",
       "12            0.305455  0.076364    0.943820   3.089888  0.051650   12.362909  \n",
       "13            0.306364  0.076364    0.943820   3.080719  0.051576   12.346727  \n",
       "3             0.305455  0.080909    0.927083   3.035094  0.054251    9.525195  \n",
       "4             0.306364  0.080909    0.927083   3.026088  0.054172    9.512727  \n",
       "14            0.298182  0.076364    0.875000   2.934451  0.050340    5.614545  \n",
       "7             0.080909  0.066364    0.869048  10.741038  0.060185    7.018512  \n",
       "6             0.076364  0.066364    0.820225  10.741038  0.060185    5.137727  \n",
       "1             0.076364  0.060000    0.785714  10.289116  0.054169    4.310303  \n",
       "0             0.076364  0.060000    0.785714  10.289116  0.054169    4.310303  \n",
       "2             0.127273  0.060909    0.632075   4.966307  0.048645    2.372028  \n",
       "5             0.132727  0.060000    0.622642   4.691135  0.047210    2.298273  "
      ]
     },
     "execution_count": 19,
     "metadata": {},
     "output_type": "execute_result"
    }
   ],
   "source": [
    "def get_key(my_dict, val):\n",
    "    keys = []\n",
    "    for key, value in my_dict.items():\n",
    "        if value in val:\n",
    "            keys.append(key)\n",
    "    return keys\n",
    "\n",
    "all_rules = association_rules(FI_apriori, metric=\"confidence\", min_threshold=0.6)\n",
    "all_rules['antecedents'] = all_rules['antecedents'].apply(lambda x: get_key(targets_dict, list(iter(x))))\n",
    "all_rules['consequents'] = all_rules['consequents'].apply(lambda x: get_key(targets_dict, list(iter(x))))\n",
    "best_rules = all_rules[(all_rules['lift'] >= 2) & (all_rules['conviction'] >= 2)]\n",
    "print(\"Number of Rules:\", len(best_rules))\n",
    "best_rules.sort_values(by=['confidence'], ascending=False)"
   ]
  },
  {
   "attachments": {},
   "cell_type": "markdown",
   "metadata": {},
   "source": [
    "From the rules we can see that some rules are really good, as a matter of fact, the first rule [SLCO1B3, CYP3A4] &rarr; [SLCO1B1] has a confidence of 1.0, meaning that, setting a minimum support of 0.06, this transaction happens every time.\n",
    "It also seems that the variables with similar \"name\" have meaningful relationships, since rules are: [SLCO1B3] &rarr; [SLCO1B1] and viceversa, [SLCO2B1] &rarr; [SLCO1B3], [HTR2C] &rarr; [HTR2A], [CYP1A2] &rarr; [CYP2D6], just to mention some."
   ]
  },
  {
   "attachments": {},
   "cell_type": "markdown",
   "metadata": {},
   "source": [
    "# Recommendation Systems"
   ]
  },
  {
   "attachments": {},
   "cell_type": "markdown",
   "metadata": {},
   "source": [
    "In the last part we performed recommendation systems to see which drugs were similar between each other by constructing a similarity matrix."
   ]
  },
  {
   "cell_type": "code",
   "execution_count": 20,
   "metadata": {
    "scrolled": true
   },
   "outputs": [],
   "source": [
    "df2 = df.drop(df.columns[0],axis=1)"
   ]
  },
  {
   "cell_type": "code",
   "execution_count": 21,
   "metadata": {},
   "outputs": [],
   "source": [
    "def RowCenterMatrix(M):\n",
    "    V  = M.T\n",
    "    mat= np.nanmean(V, axis=0)\n",
    "    VC = V - mat\n",
    "    VC[np.isnan(VC)]=0\n",
    "    return VC.T\n",
    "\n",
    "VC=RowCenterMatrix(df2.values)\n",
    "pd.DataFrame(VC)\n",
    "\n",
    "def CosSim_Matrix(M):\n",
    "    norms=np.sqrt(np.sum(M*M, axis=1))\n",
    "    norms[norms<0.001]=0.001  \n",
    "    norms_M = np.outer(norms, norms)\n",
    "    VC=M.copy()\n",
    "    return np.dot(VC, VC.T)/norms_M\n",
    "\n",
    "sim_mat = CosSim_Matrix(VC)\n",
    "sim_molecules=pd.DataFrame(sim_mat, columns=df2.index, index=df2.index)\n",
    "\n",
    "def get_top_highest(matrix, sort=True, n=5):\n",
    "    values = []\n",
    "    for i in range(len(matrix)):\n",
    "         for j in range(i + 1, len(matrix)):\n",
    "                values.append((matrix[i][j], i, j))  \n",
    "    values.sort(reverse=sort)\n",
    "    top = values[:n]\n",
    "    return top\n",
    "\n",
    "top_10_values = get_top_highest(sim_molecules, True, n=10)    "
   ]
  },
  {
   "cell_type": "code",
   "execution_count": 22,
   "metadata": {
    "scrolled": true
   },
   "outputs": [
    {
     "data": {
      "text/html": [
       "<style type=\"text/css\">\n",
       "#T_c019b caption {\n",
       "  font-size: 1.2em;\n",
       "}\n",
       "</style>\n",
       "<table id=\"T_c019b\">\n",
       "  <caption>Most similar drugs:</caption>\n",
       "  <thead>\n",
       "    <tr>\n",
       "      <th id=\"T_c019b_level0_col0\" class=\"col_heading level0 col0\" >Value</th>\n",
       "      <th id=\"T_c019b_level0_col1\" class=\"col_heading level0 col1\" >Coordinates</th>\n",
       "    </tr>\n",
       "  </thead>\n",
       "  <tbody>\n",
       "    <tr>\n",
       "      <td id=\"T_c019b_row0_col0\" class=\"data row0 col0\" >1.000</td>\n",
       "      <td id=\"T_c019b_row0_col1\" class=\"data row0 col1\" >(549, 735)</td>\n",
       "    </tr>\n",
       "    <tr>\n",
       "      <td id=\"T_c019b_row1_col0\" class=\"data row1 col0\" >1.000</td>\n",
       "      <td id=\"T_c019b_row1_col1\" class=\"data row1 col1\" >(441, 704)</td>\n",
       "    </tr>\n",
       "    <tr>\n",
       "      <td id=\"T_c019b_row2_col0\" class=\"data row2 col0\" >1.000</td>\n",
       "      <td id=\"T_c019b_row2_col1\" class=\"data row2 col1\" >(865, 866)</td>\n",
       "    </tr>\n",
       "    <tr>\n",
       "      <td id=\"T_c019b_row3_col0\" class=\"data row3 col0\" >1.000</td>\n",
       "      <td id=\"T_c019b_row3_col1\" class=\"data row3 col1\" >(551, 661)</td>\n",
       "    </tr>\n",
       "    <tr>\n",
       "      <td id=\"T_c019b_row4_col0\" class=\"data row4 col0\" >1.000</td>\n",
       "      <td id=\"T_c019b_row4_col1\" class=\"data row4 col1\" >(376, 1099)</td>\n",
       "    </tr>\n",
       "    <tr>\n",
       "      <td id=\"T_c019b_row5_col0\" class=\"data row5 col0\" >1.000</td>\n",
       "      <td id=\"T_c019b_row5_col1\" class=\"data row5 col1\" >(286, 556)</td>\n",
       "    </tr>\n",
       "    <tr>\n",
       "      <td id=\"T_c019b_row6_col0\" class=\"data row6 col0\" >1.000</td>\n",
       "      <td id=\"T_c019b_row6_col1\" class=\"data row6 col1\" >(283, 642)</td>\n",
       "    </tr>\n",
       "    <tr>\n",
       "      <td id=\"T_c019b_row7_col0\" class=\"data row7 col0\" >1.000</td>\n",
       "      <td id=\"T_c019b_row7_col1\" class=\"data row7 col1\" >(216, 369)</td>\n",
       "    </tr>\n",
       "    <tr>\n",
       "      <td id=\"T_c019b_row8_col0\" class=\"data row8 col0\" >1.000</td>\n",
       "      <td id=\"T_c019b_row8_col1\" class=\"data row8 col1\" >(187, 1061)</td>\n",
       "    </tr>\n",
       "    <tr>\n",
       "      <td id=\"T_c019b_row9_col0\" class=\"data row9 col0\" >1.000</td>\n",
       "      <td id=\"T_c019b_row9_col1\" class=\"data row9 col1\" >(139, 547)</td>\n",
       "    </tr>\n",
       "  </tbody>\n",
       "</table>\n"
      ],
      "text/plain": [
       "<pandas.io.formats.style.Styler at 0x146279d16d0>"
      ]
     },
     "execution_count": 22,
     "metadata": {},
     "output_type": "execute_result"
    }
   ],
   "source": [
    "result_df = pd.DataFrame(columns=['Value', 'Coordinates'])\n",
    "\n",
    "# Iterate over the top 10 values and append to the result DataFrame\n",
    "for value, i, j in top_10_values:\n",
    "    result_df = result_df.append({'Value': value, 'Coordinates': (i, j)}, ignore_index=True)\n",
    "\n",
    "# Style the DataFrame\n",
    "styled_df1 = (result_df.style\n",
    "             .set_table_styles([{'selector': 'caption', 'props': [('font-size', '1.2em')]}])\n",
    "             .set_caption(\"Most similar drugs:\")\n",
    "             .format(formatter={'Value': '{:.3f}'.format, 'Coordinates': lambda x: '({}, {})'.format(*x)})\n",
    "             .hide_index())\n",
    "styled_df1"
   ]
  },
  {
   "attachments": {},
   "cell_type": "markdown",
   "metadata": {},
   "source": [
    "We then created a recommendation system to see for each molecules the most similar ones."
   ]
  },
  {
   "cell_type": "code",
   "execution_count": 23,
   "metadata": {},
   "outputs": [],
   "source": [
    "sims=pd.DataFrame(sim_molecules)\n",
    "\n",
    "np.fill_diagonal(sims.values, -999)\n",
    "\n",
    "def precompute_similars(DB, sims, K=5):\n",
    "    similars=[]\n",
    "    for idi, item in enumerate(DB):\n",
    "        sim_item_idxs = sims[idi].argsort()[:-(K+1):-1]\n",
    "        sim_items = [(sims[idi][i], i) for i in sim_item_idxs]\n",
    "        similars.append(sim_items)\n",
    "    return similars\n",
    "\n",
    "similars=precompute_similars(molecules, sim_mat)\n",
    "\n",
    "def recommend(db, similars, molecule_id, num=2):\n",
    "    print(\"Recommending \" + str(num) + \" items similar to: \" + db[molecule_id] + f'      t: [{targets_transactions[molecule_id]}]')\n",
    "    for rec in similars[molecule_id][:num]:\n",
    "        print(\"\\t      (score: %7.4f) - %s\" % (rec[0], db[rec[1]]) + f'      t: [{targets_transactions[molecules.index(db[rec[1]])]}]')"
   ]
  },
  {
   "attachments": {},
   "cell_type": "markdown",
   "metadata": {},
   "source": [
    "We decided to print recommended drugs, as well as their targets, for most similar ones from the previosuly computed similarity matrix."
   ]
  },
  {
   "cell_type": "code",
   "execution_count": 24,
   "metadata": {
    "scrolled": false
   },
   "outputs": [
    {
     "name": "stdout",
     "output_type": "stream",
     "text": [
      "Recommending 4 items similar to: PDFDA0550      t: [['KCNH2']]\n",
      "\t      (score:  1.0000) - PDFDA0736      t: [['KDM4E', 'SKA', 'HPGD', 'SLC22A1']]\n",
      "\t      (score:  0.5161) - PDFDA0452      t: [['GYRA', 'PARC', 'SKA']]\n",
      "\t      (score:  0.4909) - PDFDA0573      t: [['SETD7']]\n",
      "\t      (score:  0.4615) - PDFDA0683      t: [['PARC']]\n"
     ]
    }
   ],
   "source": [
    "recommend(molecules, similars, molecule_id=549,num=4)"
   ]
  },
  {
   "cell_type": "code",
   "execution_count": 25,
   "metadata": {},
   "outputs": [
    {
     "name": "stdout",
     "output_type": "stream",
     "text": [
      "Recommending 4 items similar to: PDFDA0736      t: [['KDM4E', 'SKA', 'HPGD', 'SLC22A1']]\n",
      "\t      (score:  1.0000) - PDFDA0550      t: [['KCNH2']]\n",
      "\t      (score:  0.5161) - PDFDA0452      t: [['GYRA', 'PARC', 'SKA']]\n",
      "\t      (score:  0.4909) - PDFDA0573      t: [['SETD7']]\n",
      "\t      (score:  0.4615) - PDFDA0683      t: [['PARC']]\n"
     ]
    }
   ],
   "source": [
    "recommend(molecules, similars, molecule_id=735,num=4)"
   ]
  },
  {
   "attachments": {},
   "cell_type": "markdown",
   "metadata": {},
   "source": [
    "As expected highly similar drugs share the set of similar drugs. We can also have an insight on their targets."
   ]
  },
  {
   "attachments": {},
   "cell_type": "markdown",
   "metadata": {},
   "source": [
    "More detailed outile, as well as description of the results, is contained in the report."
   ]
  }
 ],
 "metadata": {
  "kernelspec": {
   "display_name": "Python 3 (ipykernel)",
   "language": "python",
   "name": "python3"
  },
  "language_info": {
   "codemirror_mode": {
    "name": "ipython",
    "version": 3
   },
   "file_extension": ".py",
   "mimetype": "text/x-python",
   "name": "python",
   "nbconvert_exporter": "python",
   "pygments_lexer": "ipython3",
   "version": "3.9.1"
  },
  "toc": {
   "base_numbering": 1,
   "nav_menu": {},
   "number_sections": true,
   "sideBar": true,
   "skip_h1_title": false,
   "title_cell": "Table of Contents",
   "title_sidebar": "Contents",
   "toc_cell": false,
   "toc_position": {},
   "toc_section_display": true,
   "toc_window_display": false
  },
  "varInspector": {
   "cols": {
    "lenName": 16,
    "lenType": 16,
    "lenVar": 40
   },
   "kernels_config": {
    "python": {
     "delete_cmd_postfix": "",
     "delete_cmd_prefix": "del ",
     "library": "var_list.py",
     "varRefreshCmd": "print(var_dic_list())"
    },
    "r": {
     "delete_cmd_postfix": ") ",
     "delete_cmd_prefix": "rm(",
     "library": "var_list.r",
     "varRefreshCmd": "cat(var_dic_list()) "
    }
   },
   "types_to_exclude": [
    "module",
    "function",
    "builtin_function_or_method",
    "instance",
    "_Feature"
   ],
   "window_display": false
  }
 },
 "nbformat": 4,
 "nbformat_minor": 2
}
